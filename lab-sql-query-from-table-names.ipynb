{
 "cells": [
  {
   "cell_type": "markdown",
   "id": "00a57394-53dd-47cd-a5e7-6e7122bbb0f6",
   "metadata": {},
   "source": [
    "# SQL query from table names"
   ]
  },
  {
   "cell_type": "markdown",
   "id": "86bc2813-763c-49f2-9f5d-e1f87a20556f",
   "metadata": {
    "id": "86bc2813-763c-49f2-9f5d-e1f87a20556f"
   },
   "source": [
    "In This notebook we are going to test if using just the name of the table, and a shord definition of its contect we can use a model like GTP3.5-Turbo to select which tables are necessary to create a SQL Order to answer the user petition."
   ]
  },
  {
   "cell_type": "code",
   "execution_count": 2,
   "id": "7fbbdf5b-4d7f-4496-8f40-9d15ea46d023",
   "metadata": {
    "id": "7fbbdf5b-4d7f-4496-8f40-9d15ea46d023"
   },
   "outputs": [],
   "source": [
    "from openai import OpenAI\n",
    "import os\n",
    "from dotenv import load_dotenv, find_dotenv\n",
    "_ = load_dotenv(find_dotenv())\n",
    "\n",
    "OPENAI_API_KEY  = os.getenv('OPENAI_API_KEY')"
   ]
  },
  {
   "cell_type": "code",
   "execution_count": 3,
   "id": "e480bbfb-9a80-4ea6-b792-067e63ae3148",
   "metadata": {
    "id": "e480bbfb-9a80-4ea6-b792-067e63ae3148"
   },
   "outputs": [],
   "source": [
    "#Functio to call the model.\n",
    "def return_OAI(user_message):\n",
    "    client = OpenAI(\n",
    "    # This is the default and can be omitted\n",
    "    api_key=OPENAI_API_KEY,\n",
    ")\n",
    "    context = []\n",
    "    context.append({'role':'system', \"content\": user_message})\n",
    "\n",
    "    response = client.chat.completions.create(\n",
    "            model=\"gpt-3.5-turbo\",\n",
    "            messages=context,\n",
    "            temperature=0,\n",
    "        )\n",
    "\n",
    "    return (response.choices[0].message.content)"
   ]
  },
  {
   "cell_type": "code",
   "execution_count": 4,
   "id": "6d5d2bdc-d822-4ed8-815e-b3f223730f15",
   "metadata": {
    "id": "6d5d2bdc-d822-4ed8-815e-b3f223730f15",
    "outputId": "61068bf0-41e3-40d9-b453-b76da5b0f086"
   },
   "outputs": [
    {
     "data": {
      "text/html": [
       "<div>\n",
       "<style scoped>\n",
       "    .dataframe tbody tr th:only-of-type {\n",
       "        vertical-align: middle;\n",
       "    }\n",
       "\n",
       "    .dataframe tbody tr th {\n",
       "        vertical-align: top;\n",
       "    }\n",
       "\n",
       "    .dataframe thead th {\n",
       "        text-align: right;\n",
       "    }\n",
       "</style>\n",
       "<table border=\"1\" class=\"dataframe\">\n",
       "  <thead>\n",
       "    <tr style=\"text-align: right;\">\n",
       "      <th></th>\n",
       "      <th>table</th>\n",
       "      <th>definition</th>\n",
       "    </tr>\n",
       "  </thead>\n",
       "  <tbody>\n",
       "    <tr>\n",
       "      <th>0</th>\n",
       "      <td>employees</td>\n",
       "      <td>This table contains employee details like empl...</td>\n",
       "    </tr>\n",
       "    <tr>\n",
       "      <th>1</th>\n",
       "      <td>orders</td>\n",
       "      <td>This table contains order information includin...</td>\n",
       "    </tr>\n",
       "    <tr>\n",
       "      <th>2</th>\n",
       "      <td>products</td>\n",
       "      <td>This table contains product details such as pr...</td>\n",
       "    </tr>\n",
       "  </tbody>\n",
       "</table>\n",
       "</div>"
      ],
      "text/plain": [
       "       table                                         definition\n",
       "0  employees  This table contains employee details like empl...\n",
       "1     orders  This table contains order information includin...\n",
       "2   products  This table contains product details such as pr..."
      ]
     },
     "execution_count": 4,
     "metadata": {},
     "output_type": "execute_result"
    }
   ],
   "source": [
    "#Definition of the tables.\n",
    "import pandas as pd\n",
    "\n",
    "# Table and definitions sample\n",
    "data = {\n",
    "    'table': ['employees', 'orders', 'products'],  # Tabels name\n",
    "    'definition': [\n",
    "        'This table contains employee details like employee_id, name, and position.',\n",
    "        'This table contains order information including order_id, customer_id, and order_date.',\n",
    "        'This table contains product details such as product_id, name, and price.'\n",
    "    ]\n",
    "}\n",
    "\n",
    "df = pd.DataFrame(data)\n",
    "df"
   ]
  },
  {
   "cell_type": "code",
   "execution_count": 5,
   "id": "009e681c-d95d-4c9c-b044-5bfd76e3ad95",
   "metadata": {
    "id": "009e681c-d95d-4c9c-b044-5bfd76e3ad95"
   },
   "outputs": [],
   "source": [
    "text_tables = '\\n'.join([f\"{row['table']}: {row['definition']}\" for index, row in df.iterrows()])"
   ]
  },
  {
   "cell_type": "code",
   "execution_count": 6,
   "id": "fe03ac25-8d02-4cd1-99a1-be4220c6fd2d",
   "metadata": {
    "id": "fe03ac25-8d02-4cd1-99a1-be4220c6fd2d",
    "outputId": "c1f3aab1-5f26-48fe-fcf9-3780120f5aad"
   },
   "outputs": [
    {
     "name": "stdout",
     "output_type": "stream",
     "text": [
      "employees: This table contains employee details like employee_id, name, and position.\n",
      "orders: This table contains order information including order_id, customer_id, and order_date.\n",
      "products: This table contains product details such as product_id, name, and price.\n"
     ]
    }
   ],
   "source": [
    "print(text_tables)"
   ]
  },
  {
   "cell_type": "code",
   "execution_count": 7,
   "id": "c7e275ae-f20d-4134-b9b6-d8677dfb544c",
   "metadata": {
    "id": "c7e275ae-f20d-4134-b9b6-d8677dfb544c"
   },
   "outputs": [],
   "source": [
    "prompt_question_tables = \"\"\"\n",
    "Given the following tables and their content definitions,\n",
    "###Tables\n",
    "{tables}\n",
    "\n",
    "Tell me which tables would be necessary to query with SQL to address the user's question below.\n",
    "Return the table names in a json format.\n",
    "###User Question:\n",
    "{question}\n",
    "\"\"\"\n"
   ]
  },
  {
   "cell_type": "code",
   "execution_count": 8,
   "id": "b1cb5957-2df2-4e5e-9e6a-ace955c9817e",
   "metadata": {
    "id": "b1cb5957-2df2-4e5e-9e6a-ace955c9817e"
   },
   "outputs": [],
   "source": [
    "#Creating the prompt, with the user questions and the tables definitions.                                   \n",
    "pqt1 = prompt_question_tables.format(tables=text_tables, question=\"I need to find the orders placed by employees with a certain position.\")\n",
    "                                    "
   ]
  },
  {
   "cell_type": "code",
   "execution_count": 9,
   "id": "10d30f2b-6c23-4fd6-8038-840fba784cce",
   "metadata": {
    "id": "10d30f2b-6c23-4fd6-8038-840fba784cce",
    "outputId": "9924022c-7b2b-4ec8-e2c2-75bc1c745151",
    "scrolled": true
   },
   "outputs": [
    {
     "name": "stdout",
     "output_type": "stream",
     "text": [
      "{\n",
      "    \"tables\": [\"employees\", \"orders\"]\n",
      "}\n"
     ]
    }
   ],
   "source": [
    "print(return_OAI(pqt1))"
   ]
  },
  {
   "cell_type": "code",
   "execution_count": 10,
   "id": "57e07083-be8f-4cd0-95bd-c4b909422c6b",
   "metadata": {
    "id": "57e07083-be8f-4cd0-95bd-c4b909422c6b"
   },
   "outputs": [
    {
     "name": "stdout",
     "output_type": "stream",
     "text": [
      "\n",
      "Given the following tables and their content definitions,\n",
      "###Tables\n",
      "employees: This table contains employee details like employee_id, name, and position.\n",
      "orders: This table contains order information including order_id, customer_id, and order_date.\n",
      "products: This table contains product details such as product_id, name, and price.\n",
      "\n",
      "Tell me which tables would be necessary to query with SQL to address the user's question below.\n",
      "Return the table names in a json format.\n",
      "###User Question:\n",
      "What is the total number of orders placed by each employee?\n",
      "\n"
     ]
    }
   ],
   "source": [
    "question = \"What is the total number of orders placed by each employee?\"\n",
    "\n",
    "# استبدال القيم داخل القالب\n",
    "pqt3 = prompt_question_tables.format(tables=text_tables, question=question)\n",
    "\n",
    "# طباعة النتيجة\n",
    "print(pqt3)"
   ]
  },
  {
   "cell_type": "code",
   "execution_count": 11,
   "id": "a0eeb79e-caf1-4f48-9897-168d95d2ae37",
   "metadata": {
    "id": "a0eeb79e-caf1-4f48-9897-168d95d2ae37",
    "outputId": "81d77115-9cad-4284-a228-5368bb9aa6fb"
   },
   "outputs": [
    {
     "name": "stdout",
     "output_type": "stream",
     "text": [
      "```json\n",
      "{\n",
      "    \"tables\": [\"employees\", \"orders\"]\n",
      "}\n",
      "```\n"
     ]
    }
   ],
   "source": [
    "print(return_OAI(pqt3))"
   ]
  },
  {
   "cell_type": "markdown",
   "id": "321bb9a2-4937-4e9a-a31b-7049cb8f5aa3",
   "metadata": {
    "id": "321bb9a2-4937-4e9a-a31b-7049cb8f5aa3"
   },
   "source": [
    "# Exercise\n",
    " - Complete the prompts similar to what we did in class. \n",
    "     - Try a few versions if you have time\n",
    "     - Be creative\n",
    " - Write a one page report summarizing your findings.\n",
    "     - Were there variations that didn't work well? i.e., where GPT either hallucinated or wrong\n",
    " - What did you learn?"
   ]
  },
  {
   "cell_type": "code",
   "execution_count": 21,
   "id": "df036760",
   "metadata": {},
   "outputs": [],
   "source": [
    "import os\n",
    "import openai\n",
    "import pandas as pd\n",
    "from dotenv import load_dotenv\n",
    "\n",
    "# تحميل متغيرات البيئة\n",
    "load_dotenv()\n",
    "\n",
    "# تعريف API Key\n",
    "OPENAI_API_KEY = os.getenv(\"OPENAI_API_KEY\")\n",
    "\n",
    "# التحقق من أن API Key تم تحميله بشكل صحيح\n",
    "if OPENAI_API_KEY is None:\n",
    "    raise ValueError(\"⚠️ Error: OPENAI_API_KEY is not set. Please check your .env file.\")\n",
    "\n",
    "# تهيئة العميل\n",
    "client = openai.OpenAI(api_key=OPENAI_API_KEY)"
   ]
  },
  {
   "cell_type": "code",
   "execution_count": 22,
   "id": "085539dc",
   "metadata": {},
   "outputs": [],
   "source": [
    "def query_gpt(prompt):\n",
    "    response = client.chat.completions.create(\n",
    "        model=\"gpt-3.5-turbo\",\n",
    "        messages=[{\"role\": \"user\", \"content\": prompt}],\n",
    "        temperature=0.7,\n",
    "    )\n",
    "    return response.choices[0].message.content\n"
   ]
  },
  {
   "cell_type": "code",
   "execution_count": 23,
   "id": "27b2d09f",
   "metadata": {},
   "outputs": [
    {
     "name": "stdout",
     "output_type": "stream",
     "text": [
      "  Employee  Orders Department\n",
      "0    Alice     120      Sales\n",
      "1      Bob      85  Marketing\n",
      "2  Charlie      98      Sales\n",
      "3    David     150       Tech\n"
     ]
    }
   ],
   "source": [
    "# بيانات الموظفين والطلبات (كمثال)\n",
    "data = {\n",
    "    \"Employee\": [\"Alice\", \"Bob\", \"Charlie\", \"David\"],\n",
    "    \"Orders\": [120, 85, 98, 150],\n",
    "    \"Department\": [\"Sales\", \"Marketing\", \"Sales\", \"Tech\"]\n",
    "}\n",
    "\n",
    "df = pd.DataFrame(data)\n",
    "print(df)\n"
   ]
  },
  {
   "cell_type": "code",
   "execution_count": 32,
   "id": "ebdf9428",
   "metadata": {},
   "outputs": [
    {
     "name": "stdout",
     "output_type": "stream",
     "text": [
      "To determine the total number of orders placed by each employee, you would need a dataset that includes information on the orders placed and the employees responsible for placing them. You would then need to group the orders by employee and count the number of orders placed by each employee. This can be done using SQL queries or spreadsheet functions such as COUNTIF.\n"
     ]
    }
   ],
   "source": [
    "prompt1 = \"\"\"\n",
    "What is the total number of orders placed by each employee?\n",
    "\"\"\"\n",
    "\n",
    "response1 = query_gpt(prompt1)\n",
    "print(response1)\n"
   ]
  },
  {
   "cell_type": "code",
   "execution_count": 33,
   "id": "27aa65cb",
   "metadata": {},
   "outputs": [
    {
     "name": "stdout",
     "output_type": "stream",
     "text": [
      "1. Product A - Total sales amount: $100,000 (20% of overall revenue)\n",
      "2. Product B - Total sales amount: $80,000 (16% of overall revenue)\n",
      "3. Product C - Total sales amount: $70,000 (14% of overall revenue)\n",
      "4. Product D - Total sales amount: $60,000 (12% of overall revenue)\n",
      "5. Product E - Total sales amount: $50,000 (10% of overall revenue)\n"
     ]
    }
   ],
   "source": [
    "prompt2 = \"\"\"\n",
    "Show me the top 5 best-selling products along with their total sales amount and percentage of overall revenue.\n",
    "\"\"\"\n",
    "\n",
    "response2 = query_gpt(prompt2)\n",
    "print(response2)\n"
   ]
  },
  {
   "cell_type": "code",
   "execution_count": 34,
   "id": "48f01bcd",
   "metadata": {},
   "outputs": [
    {
     "name": "stdout",
     "output_type": "stream",
     "text": [
      "Sure! Here is a heatmap-style summary of orders per region:\n",
      "\n",
      "- Northeast: High order volume\n",
      "- Southeast: Moderate order volume\n",
      "- Midwest: Low order volume\n",
      "- West: Moderate order volume\n",
      "\n",
      "Based on this data, it seems like the Northeast region has the highest demand for our products. Therefore, it would be beneficial to focus our marketing efforts in that region to capitalize on the high order volume. Additionally, we may want to consider increasing our marketing efforts in the West region, as they have a moderate order volume and potential for growth.\n"
     ]
    }
   ],
   "source": [
    "prompt3 = \"\"\"\n",
    "I’m exploring regional market trends. Can you provide a heatmap-style summary of orders per region, and suggest where we should focus our marketing efforts?\n",
    "\"\"\"\n",
    "\n",
    "response3 = query_gpt(prompt3)\n",
    "print(response3)\n"
   ]
  }
 ],
 "metadata": {
  "colab": {
   "include_colab_link": true,
   "provenance": []
  },
  "kernelspec": {
   "display_name": "Python 3",
   "language": "python",
   "name": "python3"
  },
  "language_info": {
   "codemirror_mode": {
    "name": "ipython",
    "version": 3
   },
   "file_extension": ".py",
   "mimetype": "text/x-python",
   "name": "python",
   "nbconvert_exporter": "python",
   "pygments_lexer": "ipython3",
   "version": "3.9.10"
  }
 },
 "nbformat": 4,
 "nbformat_minor": 5
}
